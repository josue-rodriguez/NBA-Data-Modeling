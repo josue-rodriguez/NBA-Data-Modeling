{
 "cells": [
  {
   "cell_type": "code",
   "execution_count": 1,
   "metadata": {},
   "outputs": [],
   "source": [
    "import requests\n",
    "from bs4 import BeautifulSoup\n",
    "import pandas as pd"
   ]
  },
  {
   "cell_type": "code",
   "execution_count": 2,
   "metadata": {},
   "outputs": [],
   "source": [
    "url = 'https://www.basketball-reference.com/leagues/NBA_2018_per_game.html'\n",
    "r = requests.get(url)\n",
    "soup = BeautifulSoup(r.text, \"lxml\")"
   ]
  },
  {
   "cell_type": "code",
   "execution_count": 3,
   "metadata": {
    "scrolled": false
   },
   "outputs": [],
   "source": [
    "pretty_soup = BeautifulSoup.prettify(soup)\n",
    "#print(pretty_soup)"
   ]
  },
  {
   "cell_type": "code",
   "execution_count": 4,
   "metadata": {},
   "outputs": [],
   "source": [
    "#print(soup.title)"
   ]
  },
  {
   "cell_type": "code",
   "execution_count": 5,
   "metadata": {
    "scrolled": false
   },
   "outputs": [
    {
     "data": {
      "text/plain": [
       "['player',\n",
       " 'pos',\n",
       " 'age',\n",
       " 'team_id',\n",
       " 'g',\n",
       " 'gs',\n",
       " 'mp_per_g',\n",
       " 'fg_per_g',\n",
       " 'fga_per_g',\n",
       " 'fg_pct',\n",
       " 'fg3_per_g',\n",
       " 'fg3a_per_g',\n",
       " 'fg3_pct',\n",
       " 'fg2_per_g',\n",
       " 'fg2a_per_g',\n",
       " 'fg2_pct',\n",
       " 'efg_pct',\n",
       " 'ft_per_g',\n",
       " 'fta_per_g',\n",
       " 'ft_pct',\n",
       " 'orb_per_g',\n",
       " 'drb_per_g',\n",
       " 'trb_per_g',\n",
       " 'ast_per_g',\n",
       " 'stl_per_g',\n",
       " 'blk_per_g',\n",
       " 'tov_per_g',\n",
       " 'pf_per_g']"
      ]
     },
     "execution_count": 5,
     "metadata": {},
     "output_type": "execute_result"
    }
   ],
   "source": [
    "stat_names_info = soup.findAll('th')\n",
    "\n",
    "# there are 29 stats in the table\n",
    "stat_names = [info.get('data-stat') for info in stat_names_info[1:29]]\n",
    "\n",
    "stat_names"
   ]
  },
  {
   "cell_type": "code",
   "execution_count": 6,
   "metadata": {},
   "outputs": [],
   "source": [
    "# find all rows containing pertinent data\n",
    "table_rows = soup.find_all('tr', class_='full_table')"
   ]
  },
  {
   "cell_type": "code",
   "execution_count": 7,
   "metadata": {},
   "outputs": [],
   "source": [
    "data = {}\n",
    "\n",
    "for table_row in table_rows:\n",
    "    \n",
    "    # within each row, find all cells containing data e.g. 'td'\n",
    "    row_cells = table_row.findAll('td')\n",
    "    \n",
    "    for cell in range(0, len(row_cells)):\n",
    "        # define key\n",
    "        key = row_cells[cell].get('data-stat')\n",
    "        \n",
    "        # define value which needs to be in a list for this method to work\n",
    "        value = [row_cells[cell].text.strip()]\n",
    "        \n",
    "        # for every row cell, get the stat name, and the corresponding value\n",
    "        if key in data.keys():\n",
    "            \n",
    "            # if the key exists, update the values\n",
    "            data[key] += value\n",
    "            \n",
    "        else:\n",
    "            # else create the key and add value\n",
    "            data[key] = value\n"
   ]
  },
  {
   "cell_type": "code",
   "execution_count": 8,
   "metadata": {},
   "outputs": [],
   "source": [
    "df = pd.DataFrame(data)"
   ]
  },
  {
   "cell_type": "code",
   "execution_count": 9,
   "metadata": {},
   "outputs": [
    {
     "data": {
      "text/plain": [
       "(540, 29)"
      ]
     },
     "execution_count": 9,
     "metadata": {},
     "output_type": "execute_result"
    }
   ],
   "source": [
    "df.shape"
   ]
  },
  {
   "cell_type": "code",
   "execution_count": 11,
   "metadata": {},
   "outputs": [],
   "source": [
    "df.to_csv('~/Desktop/per_game_2018.csv')"
   ]
  },
  {
   "cell_type": "code",
   "execution_count": null,
   "metadata": {},
   "outputs": [],
   "source": []
  }
 ],
 "metadata": {
  "kernelspec": {
   "display_name": "Python 3",
   "language": "python",
   "name": "python3"
  },
  "language_info": {
   "codemirror_mode": {
    "name": "ipython",
    "version": 3
   },
   "file_extension": ".py",
   "mimetype": "text/x-python",
   "name": "python",
   "nbconvert_exporter": "python",
   "pygments_lexer": "ipython3",
   "version": "3.6.4"
  }
 },
 "nbformat": 4,
 "nbformat_minor": 2
}
